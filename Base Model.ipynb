{
 "cells": [
  {
   "cell_type": "markdown",
   "metadata": {},
   "source": [
    "# Libraries and Helper Function"
   ]
  },
  {
   "cell_type": "code",
   "execution_count": 164,
   "metadata": {
    "collapsed": false
   },
   "outputs": [],
   "source": [
    "import pandas as pd\n",
    "import numpy as np\n",
    "from sklearn.cross_validation import train_test_split\n",
    "from sklearn.linear_model import LogisticRegression as LogReg\n",
    "from sklearn.metrics import confusion_matrix\n",
    "import seaborn as sn\n",
    "import matplotlib.pyplot as plt\n",
    "from sklearn.metrics import log_loss\n",
    "from sklearn.grid_search import GridSearchCV\n",
    "from sklearn.metrics import accuracy_score\n",
    "%matplotlib inline"
   ]
  },
  {
   "cell_type": "code",
   "execution_count": 169,
   "metadata": {
    "collapsed": true
   },
   "outputs": [],
   "source": [
    "def model_results(model = model, predictors, actuals):\n",
    "    probabilities = model.predict_proba(predictors)\n",
    "    print(\"Log Loss: {0:.4f}\".format(log_loss(actuals, probabilities)))\n",
    "    predictions = model.predict(predictors)\n",
    "    print(\"Accuracy: {0:.4f}\".format(accuracy_score(actuals, predictions)))\n",
    "    cm = confusion_matrix(y_test, y_pred, labels = ['low', 'medium', 'high'])\n",
    "    cm = cm.astype('float') / cm.sum(axis=1)[:, np.newaxis]\n",
    "    df_cm = pd.DataFrame(cm, index = ['low', 'medium', 'high'], columns = ['low', 'medium', 'high'])\n",
    "    plt.figure(figsize = (10,7))\n",
    "    sn.heatmap(df_cm, annot=True, fmt='.3f', cmap='Blues')\n",
    "    plt.ylabel('True label')\n",
    "    plt.xlabel('Predicted label')\n",
    "    plt.show()"
   ]
  },
  {
   "cell_type": "markdown",
   "metadata": {},
   "source": [
    "# Load Data"
   ]
  },
  {
   "cell_type": "code",
   "execution_count": 12,
   "metadata": {
    "collapsed": true
   },
   "outputs": [],
   "source": [
    "train_df = pd.read_json('datasets/train.json')"
   ]
  },
  {
   "cell_type": "markdown",
   "metadata": {},
   "source": [
    "# Drop Duplicates"
   ]
  },
  {
   "cell_type": "code",
   "execution_count": 13,
   "metadata": {
    "collapsed": false
   },
   "outputs": [
    {
     "name": "stdout",
     "output_type": "stream",
     "text": [
      "(49352, 15)\n",
      "(45259, 15)\n"
     ]
    }
   ],
   "source": [
    "print(train_df.shape)\n",
    "duplicate_columns = ['bathrooms', 'bedrooms', 'building_id', 'description', 'display_address', 'latitude', 'longitude', 'manager_id', 'price', 'street_address']\n",
    "train_df_deduped = train_df.drop_duplicates(duplicate_columns)\n",
    "print(train_df_deduped.shape)"
   ]
  },
  {
   "cell_type": "code",
   "execution_count": null,
   "metadata": {
    "collapsed": true
   },
   "outputs": [],
   "source": [
    "train_df_deduped = train_df_deduped[train_df_deduped['price'] > 50] "
   ]
  },
  {
   "cell_type": "code",
   "execution_count": 72,
   "metadata": {
    "collapsed": false
   },
   "outputs": [
    {
     "name": "stderr",
     "output_type": "stream",
     "text": [
      "C:\\Users\\Ihsaan Patel\\Anaconda2\\lib\\site-packages\\ipykernel\\__main__.py:1: FutureWarning: sort(columns=....) is deprecated, use sort_values(by=.....)\n",
      "  if __name__ == '__main__':\n"
     ]
    },
    {
     "data": {
      "text/html": [
       "<div>\n",
       "<table border=\"1\" class=\"dataframe\">\n",
       "  <thead>\n",
       "    <tr style=\"text-align: right;\">\n",
       "      <th></th>\n",
       "      <th>bathrooms</th>\n",
       "      <th>bedrooms</th>\n",
       "      <th>building_id</th>\n",
       "      <th>created</th>\n",
       "      <th>description</th>\n",
       "      <th>display_address</th>\n",
       "      <th>features</th>\n",
       "      <th>interest_level</th>\n",
       "      <th>latitude</th>\n",
       "      <th>listing_id</th>\n",
       "      <th>longitude</th>\n",
       "      <th>manager_id</th>\n",
       "      <th>photos</th>\n",
       "      <th>price</th>\n",
       "      <th>street_address</th>\n",
       "      <th>description_length</th>\n",
       "      <th>num_photos</th>\n",
       "      <th>num_features</th>\n",
       "    </tr>\n",
       "  </thead>\n",
       "  <tbody>\n",
       "    <tr>\n",
       "      <th>32611</th>\n",
       "      <td>1.0</td>\n",
       "      <td>2</td>\n",
       "      <td>cd25bbea2af848ebe9821da820b725da</td>\n",
       "      <td>2016-06-24 05:02:11</td>\n",
       "      <td></td>\n",
       "      <td>Hudson Street</td>\n",
       "      <td>[Doorman, Elevator, Cats Allowed, Dogs Allowed...</td>\n",
       "      <td>low</td>\n",
       "      <td>40.7299</td>\n",
       "      <td>7208764</td>\n",
       "      <td>-74.0071</td>\n",
       "      <td>d1737922fe92ccb0dc37ba85589e6415</td>\n",
       "      <td>[]</td>\n",
       "      <td>4490000</td>\n",
       "      <td>421 Hudson Street</td>\n",
       "      <td>0</td>\n",
       "      <td>0</td>\n",
       "      <td>5</td>\n",
       "    </tr>\n",
       "    <tr>\n",
       "      <th>12168</th>\n",
       "      <td>1.0</td>\n",
       "      <td>2</td>\n",
       "      <td>5d3525a5085445e7fcd64a53aac3cb0a</td>\n",
       "      <td>2016-06-24 05:02:58</td>\n",
       "      <td></td>\n",
       "      <td>West 116th Street</td>\n",
       "      <td>[Doorman, Elevator, Cats Allowed, Dogs Allowed...</td>\n",
       "      <td>low</td>\n",
       "      <td>40.8011</td>\n",
       "      <td>7208794</td>\n",
       "      <td>-73.9480</td>\n",
       "      <td>d1737922fe92ccb0dc37ba85589e6415</td>\n",
       "      <td>[]</td>\n",
       "      <td>1150000</td>\n",
       "      <td>40 West 116th Street</td>\n",
       "      <td>0</td>\n",
       "      <td>0</td>\n",
       "      <td>5</td>\n",
       "    </tr>\n",
       "    <tr>\n",
       "      <th>55437</th>\n",
       "      <td>1.0</td>\n",
       "      <td>1</td>\n",
       "      <td>37385c8a58176b529964083315c28e32</td>\n",
       "      <td>2016-05-14 05:21:28</td>\n",
       "      <td></td>\n",
       "      <td>West 57th Street</td>\n",
       "      <td>[Doorman, Cats Allowed, Dogs Allowed]</td>\n",
       "      <td>low</td>\n",
       "      <td>40.7676</td>\n",
       "      <td>7013217</td>\n",
       "      <td>-73.9844</td>\n",
       "      <td>8f5a9c893f6d602f4953fcc0b8e6e9b4</td>\n",
       "      <td>[]</td>\n",
       "      <td>1070000</td>\n",
       "      <td>333 West 57th Street</td>\n",
       "      <td>8</td>\n",
       "      <td>0</td>\n",
       "      <td>3</td>\n",
       "    </tr>\n",
       "    <tr>\n",
       "      <th>57803</th>\n",
       "      <td>1.0</td>\n",
       "      <td>1</td>\n",
       "      <td>37385c8a58176b529964083315c28e32</td>\n",
       "      <td>2016-05-19 02:37:06</td>\n",
       "      <td>This 1 Bedroom apartment is located on a prime...</td>\n",
       "      <td>West 57th Street</td>\n",
       "      <td>[Doorman, Elevator, Pre-War, Dogs Allowed, Cat...</td>\n",
       "      <td>low</td>\n",
       "      <td>40.7676</td>\n",
       "      <td>7036279</td>\n",
       "      <td>-73.9844</td>\n",
       "      <td>18133bc914e6faf6f8cc1bf29d66fc0d</td>\n",
       "      <td>[https://photos.renthop.com/2/7036279_924b52f0...</td>\n",
       "      <td>1070000</td>\n",
       "      <td>333 West 57th Street</td>\n",
       "      <td>1035</td>\n",
       "      <td>7</td>\n",
       "      <td>5</td>\n",
       "    </tr>\n",
       "    <tr>\n",
       "      <th>123877</th>\n",
       "      <td>0.0</td>\n",
       "      <td>0</td>\n",
       "      <td>b9c72643feb2652536a898a5f13d2543</td>\n",
       "      <td>2016-04-12 02:11:10</td>\n",
       "      <td>Originally built in 1862, this extraordinary l...</td>\n",
       "      <td>Duane Street</td>\n",
       "      <td>[Elevator, Pre-War, Terrace, Dogs Allowed, Cat...</td>\n",
       "      <td>low</td>\n",
       "      <td>40.7161</td>\n",
       "      <td>6857401</td>\n",
       "      <td>-74.0080</td>\n",
       "      <td>d98acd4fa3c463bd468603bd873cc54c</td>\n",
       "      <td>[https://photos.renthop.com/2/6857401_a4a4c2f2...</td>\n",
       "      <td>135000</td>\n",
       "      <td>144 Duane Street</td>\n",
       "      <td>1869</td>\n",
       "      <td>20</td>\n",
       "      <td>5</td>\n",
       "    </tr>\n",
       "  </tbody>\n",
       "</table>\n",
       "</div>"
      ],
      "text/plain": [
       "        bathrooms  bedrooms                       building_id  \\\n",
       "32611         1.0         2  cd25bbea2af848ebe9821da820b725da   \n",
       "12168         1.0         2  5d3525a5085445e7fcd64a53aac3cb0a   \n",
       "55437         1.0         1  37385c8a58176b529964083315c28e32   \n",
       "57803         1.0         1  37385c8a58176b529964083315c28e32   \n",
       "123877        0.0         0  b9c72643feb2652536a898a5f13d2543   \n",
       "\n",
       "                    created  \\\n",
       "32611   2016-06-24 05:02:11   \n",
       "12168   2016-06-24 05:02:58   \n",
       "55437   2016-05-14 05:21:28   \n",
       "57803   2016-05-19 02:37:06   \n",
       "123877  2016-04-12 02:11:10   \n",
       "\n",
       "                                              description    display_address  \\\n",
       "32611                                                          Hudson Street   \n",
       "12168                                                      West 116th Street   \n",
       "55437                                                       West 57th Street   \n",
       "57803   This 1 Bedroom apartment is located on a prime...   West 57th Street   \n",
       "123877  Originally built in 1862, this extraordinary l...       Duane Street   \n",
       "\n",
       "                                                 features interest_level  \\\n",
       "32611   [Doorman, Elevator, Cats Allowed, Dogs Allowed...            low   \n",
       "12168   [Doorman, Elevator, Cats Allowed, Dogs Allowed...            low   \n",
       "55437               [Doorman, Cats Allowed, Dogs Allowed]            low   \n",
       "57803   [Doorman, Elevator, Pre-War, Dogs Allowed, Cat...            low   \n",
       "123877  [Elevator, Pre-War, Terrace, Dogs Allowed, Cat...            low   \n",
       "\n",
       "        latitude  listing_id  longitude                        manager_id  \\\n",
       "32611    40.7299     7208764   -74.0071  d1737922fe92ccb0dc37ba85589e6415   \n",
       "12168    40.8011     7208794   -73.9480  d1737922fe92ccb0dc37ba85589e6415   \n",
       "55437    40.7676     7013217   -73.9844  8f5a9c893f6d602f4953fcc0b8e6e9b4   \n",
       "57803    40.7676     7036279   -73.9844  18133bc914e6faf6f8cc1bf29d66fc0d   \n",
       "123877   40.7161     6857401   -74.0080  d98acd4fa3c463bd468603bd873cc54c   \n",
       "\n",
       "                                                   photos    price  \\\n",
       "32611                                                  []  4490000   \n",
       "12168                                                  []  1150000   \n",
       "55437                                                  []  1070000   \n",
       "57803   [https://photos.renthop.com/2/7036279_924b52f0...  1070000   \n",
       "123877  [https://photos.renthop.com/2/6857401_a4a4c2f2...   135000   \n",
       "\n",
       "              street_address  description_length  num_photos  num_features  \n",
       "32611      421 Hudson Street                   0           0             5  \n",
       "12168   40 West 116th Street                   0           0             5  \n",
       "55437   333 West 57th Street                   8           0             3  \n",
       "57803   333 West 57th Street                1035           7             5  \n",
       "123877      144 Duane Street                1869          20             5  "
      ]
     },
     "execution_count": 72,
     "metadata": {},
     "output_type": "execute_result"
    }
   ],
   "source": [
    "train_df_deduped.sort('price', ascending = False).head()"
   ]
  },
  {
   "cell_type": "markdown",
   "metadata": {},
   "source": [
    "# Feature Engineering"
   ]
  },
  {
   "cell_type": "code",
   "execution_count": 18,
   "metadata": {
    "collapsed": false
   },
   "outputs": [
    {
     "name": "stderr",
     "output_type": "stream",
     "text": [
      "C:\\Users\\Ihsaan Patel\\Anaconda2\\lib\\site-packages\\ipykernel\\__main__.py:1: SettingWithCopyWarning: \n",
      "A value is trying to be set on a copy of a slice from a DataFrame.\n",
      "Try using .loc[row_indexer,col_indexer] = value instead\n",
      "\n",
      "See the caveats in the documentation: http://pandas.pydata.org/pandas-docs/stable/indexing.html#indexing-view-versus-copy\n",
      "  if __name__ == '__main__':\n"
     ]
    }
   ],
   "source": [
    "train_df_deduped['description_length'] = train_df_deduped['description'].apply(lambda x: len(x))"
   ]
  },
  {
   "cell_type": "code",
   "execution_count": 19,
   "metadata": {
    "collapsed": false
   },
   "outputs": [
    {
     "name": "stderr",
     "output_type": "stream",
     "text": [
      "C:\\Users\\Ihsaan Patel\\Anaconda2\\lib\\site-packages\\ipykernel\\__main__.py:1: SettingWithCopyWarning: \n",
      "A value is trying to be set on a copy of a slice from a DataFrame.\n",
      "Try using .loc[row_indexer,col_indexer] = value instead\n",
      "\n",
      "See the caveats in the documentation: http://pandas.pydata.org/pandas-docs/stable/indexing.html#indexing-view-versus-copy\n",
      "  if __name__ == '__main__':\n"
     ]
    }
   ],
   "source": [
    "train_df_deduped['num_photos'] = train_df_deduped['photos'].apply(lambda x: len(x))"
   ]
  },
  {
   "cell_type": "code",
   "execution_count": 20,
   "metadata": {
    "collapsed": false
   },
   "outputs": [
    {
     "name": "stderr",
     "output_type": "stream",
     "text": [
      "C:\\Users\\Ihsaan Patel\\Anaconda2\\lib\\site-packages\\ipykernel\\__main__.py:1: SettingWithCopyWarning: \n",
      "A value is trying to be set on a copy of a slice from a DataFrame.\n",
      "Try using .loc[row_indexer,col_indexer] = value instead\n",
      "\n",
      "See the caveats in the documentation: http://pandas.pydata.org/pandas-docs/stable/indexing.html#indexing-view-versus-copy\n",
      "  if __name__ == '__main__':\n"
     ]
    }
   ],
   "source": [
    "train_df_deduped['num_features'] = train_df_deduped['features'].apply(lambda x: len(x))"
   ]
  },
  {
   "cell_type": "markdown",
   "metadata": {},
   "source": [
    "# Dataset Split"
   ]
  },
  {
   "cell_type": "code",
   "execution_count": 75,
   "metadata": {
    "collapsed": true
   },
   "outputs": [],
   "source": [
    "X = train_df_deduped.drop('interest_level', axis = 1)\n",
    "y = train_df_deduped['interest_level']"
   ]
  },
  {
   "cell_type": "code",
   "execution_count": 76,
   "metadata": {
    "collapsed": false
   },
   "outputs": [],
   "source": [
    "X_train, X_test, y_train, y_test = train_test_split(X, y, test_size = .3, random_state = 42)"
   ]
  },
  {
   "cell_type": "code",
   "execution_count": 77,
   "metadata": {
    "collapsed": false
   },
   "outputs": [
    {
     "name": "stdout",
     "output_type": "stream",
     "text": [
      "(31681, 17)\n",
      "(13578, 17)\n",
      "(31681L,)\n",
      "(13578L,)\n"
     ]
    }
   ],
   "source": [
    "print(X_train.shape)\n",
    "print(X_test.shape)\n",
    "print(y_train.shape)\n",
    "print(y_test.shape)"
   ]
  },
  {
   "cell_type": "code",
   "execution_count": 79,
   "metadata": {
    "collapsed": false
   },
   "outputs": [
    {
     "name": "stdout",
     "output_type": "stream",
     "text": [
      "high: 0.0746 | 0.0798\n",
      "medium: 0.2208 | 0.2192\n",
      "low: 0.7046 | 0.7011\n"
     ]
    }
   ],
   "source": [
    "y_train_split = {key: value*1.0/y_train.shape[0] for key, value in zip(y_train.value_counts().keys(),y_train.value_counts())}\n",
    "y_test_split = {key: value*1.0/y_test.shape[0] for key, value in zip(y_test.value_counts().keys(),y_test.value_counts())}\n",
    "for key in y_train_split.keys():\n",
    "    print(\"{0}: {1:.4f} | {2:.4f}\".format(key, y_train_split[key], y_test_split[key]))"
   ]
  },
  {
   "cell_type": "markdown",
   "metadata": {},
   "source": [
    "# Predict Single Class"
   ]
  },
  {
   "cell_type": "code",
   "execution_count": 229,
   "metadata": {
    "collapsed": false
   },
   "outputs": [
    {
     "name": "stdout",
     "output_type": "stream",
     "text": [
      "Log Loss: 1.6435\n",
      "Accuracy: 0.7011\n"
     ]
    },
    {
     "data": {
      "image/png": "[encoded data removed]",
      "text/plain": [
       "<matplotlib.figure.Figure at 0x2bb54080>"
      ]
     },
     "metadata": {},
     "output_type": "display_data"
    }
   ],
   "source": [
    "probabilities = np.zeros((X_test.shape[0],  3))\n",
    "probabilities[:, 0] = .7\n",
    "probabilities[:, 1] = .22\n",
    "probabilities[:, 2] = .08\n",
    "print(\"Log Loss: {0:.4f}\".format(log_loss(y_test, probabilities)))\n",
    "predictions = y_test.apply(lambda x: 'low')\n",
    "print(\"Accuracy: {0:.4f}\".format(accuracy_score(y_test, predictions)))\n",
    "cm = confusion_matrix(y_test, predictions, labels = ['low', 'medium', 'high'])\n",
    "cm = cm.astype('float') / cm.sum(axis=1)[:, np.newaxis]\n",
    "df_cm = pd.DataFrame(cm, index = ['low', 'medium', 'high'], columns = ['low', 'medium', 'high'])\n",
    "plt.figure(figsize = (10,7))\n",
    "sn.heatmap(df_cm, annot=True, fmt='.3f', cmap='Blues')\n",
    "plt.ylabel('True label')\n",
    "plt.xlabel('Predicted label')\n",
    "plt.show()"
   ]
  },
  {
   "cell_type": "markdown",
   "metadata": {},
   "source": [
    "# Base Model"
   ]
  },
  {
   "cell_type": "code",
   "execution_count": 230,
   "metadata": {
    "collapsed": true
   },
   "outputs": [],
   "source": [
    "base_features_to_use = ['bathrooms', 'bedrooms', 'price']"
   ]
  },
  {
   "cell_type": "code",
   "execution_count": 231,
   "metadata": {
    "collapsed": false
   },
   "outputs": [
    {
     "name": "stdout",
     "output_type": "stream",
     "text": [
      "Log Loss: 0.7277\n",
      "Accuracy: 0.6989\n"
     ]
    },
    {
     "data": {
      "image/png": "[encoded data removed]",
      "text/plain": [
       "<matplotlib.figure.Figure at 0x2b44b198>"
      ]
     },
     "metadata": {},
     "output_type": "display_data"
    }
   ],
   "source": [
    "basic_logreg = LogReg()\n",
    "basic_logreg.fit(X_train[base_features_to_use], y_train.values)\n",
    "model_results(basic_logreg, X_test[base_features_to_use], y_test)"
   ]
  },
  {
   "cell_type": "markdown",
   "metadata": {},
   "source": [
    "# Base Model Grid Search"
   ]
  },
  {
   "cell_type": "code",
   "execution_count": null,
   "metadata": {
    "collapsed": false
   },
   "outputs": [],
   "source": [
    "basic_logreg = LogReg()\n",
    "parameters = {'solver' : ['newton-cg', 'lbfgs'], 'multi_class' : ['ovr', 'multinomial'], 'class_weight' : ['balanced', None], 'C' : [10**c for c in range(-7, 8)]}\n",
    "basic_logreg_cv = GridSearchCV(basic_logreg, parameters, scoring = \"log_loss\", cv = 5, error_score = 100)\n",
    "basic_logreg_cv.fit(X_train[base_features_to_use], y_train)\n",
    "basic_logreg_cv.grid_scores_"
   ]
  },
  {
   "cell_type": "code",
   "execution_count": 233,
   "metadata": {
    "collapsed": false
   },
   "outputs": [
    {
     "name": "stdout",
     "output_type": "stream",
     "text": [
      "Log Loss: 0.7253\n",
      "Accuracy: 0.6993\n"
     ]
    },
    {
     "data": {
      "image/png": "[encoded data removed]",
      "text/plain": [
       "<matplotlib.figure.Figure at 0x2b44b978>"
      ]
     },
     "metadata": {},
     "output_type": "display_data"
    }
   ],
   "source": [
    "basic_logreg_best = basic_logreg_cv.best_estimator_\n",
    "basic_logreg_best.fit(X_train[base_features_to_use], y_train)\n",
    "model_results(basic_logreg_best, X_test[base_features_to_use], y_test)"
   ]
  },
  {
   "cell_type": "markdown",
   "metadata": {},
   "source": [
    "# Random Forest"
   ]
  },
  {
   "cell_type": "code",
   "execution_count": null,
   "metadata": {
    "collapsed": true
   },
   "outputs": [],
   "source": []
  }
 ],
 "metadata": {
  "anaconda-cloud": {},
  "kernelspec": {
   "display_name": "Python [Root]",
   "language": "python",
   "name": "Python [Root]"
  },
  "language_info": {
   "codemirror_mode": {
    "name": "ipython",
    "version": 2
   },
   "file_extension": ".py",
   "mimetype": "text/x-python",
   "name": "python",
   "nbconvert_exporter": "python",
   "pygments_lexer": "ipython2",
   "version": "2.7.13"
  }
 },
 "nbformat": 4,
 "nbformat_minor": 0
}
