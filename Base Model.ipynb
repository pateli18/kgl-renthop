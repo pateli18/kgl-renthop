{
 "cells": [
  {
   "cell_type": "markdown",
   "metadata": {},
   "source": [
    "# Libraries and Helper Function"
   ]
  },
  {
   "cell_type": "code",
   "execution_count": 1,
   "metadata": {
    "collapsed": false
   },
   "outputs": [],
   "source": [
    "import pandas as pd\n",
    "import numpy as np\n",
    "from sklearn.cross_validation import train_test_split\n",
    "from sklearn.linear_model import LogisticRegression as LogReg\n",
    "from sklearn.metrics import confusion_matrix\n",
    "import seaborn as sn\n",
    "import matplotlib.pyplot as plt\n",
    "from sklearn.metrics import log_loss\n",
    "from sklearn.grid_search import GridSearchCV\n",
    "from sklearn.metrics import accuracy_score\n",
    "from sklearn.ensemble import RandomForestClassifier\n",
    "%matplotlib inline"
   ]
  },
  {
   "cell_type": "code",
   "execution_count": 31,
   "metadata": {
    "collapsed": false
   },
   "outputs": [],
   "source": [
    "def model_results(model, predictors, actuals):\n",
    "    probabilities = model.predict_proba(predictors)\n",
    "    print(\"Log Loss: {0:.4f}\".format(log_loss(actuals, probabilities)))\n",
    "    predictions = model.predict(predictors)\n",
    "    print(\"Accuracy: {0:.4f}\".format(accuracy_score(actuals, predictions)))\n",
    "    cm = confusion_matrix(y_test, predictions, labels = ['low', 'medium', 'high'])\n",
    "    cm = cm.astype('float') / cm.sum(axis=1)[:, np.newaxis]\n",
    "    df_cm = pd.DataFrame(cm, index = ['low', 'medium', 'high'], columns = ['low', 'medium', 'high'])\n",
    "    plt.figure(figsize = (10,7))\n",
    "    sn.heatmap(df_cm, annot=True, fmt='.3f', cmap='Blues')\n",
    "    plt.ylabel('True label')\n",
    "    plt.xlabel('Predicted label')\n",
    "    plt.show()"
   ]
  },
  {
   "cell_type": "code",
   "execution_count": 38,
   "metadata": {
    "collapsed": true
   },
   "outputs": [],
   "source": [
    "def tune_model(model, parameters, X_train, y_train, X_test, y_test):\n",
    "    model_cv = GridSearchCV(model, parameters, scoring = \"log_loss\", cv = 5, error_score = 100)\n",
    "    model_cv.fit(X_train, y_train)\n",
    "    model_grid_scores = model_cv.grid_scores_\n",
    "    model_best = model_cv.best_estimator_\n",
    "    model_best.fit(X_train, y_train)\n",
    "    model_results(model_best, X_test, y_test)\n",
    "    return model_grid_scores"
   ]
  },
  {
   "cell_type": "markdown",
   "metadata": {},
   "source": [
    "# Load Data"
   ]
  },
  {
   "cell_type": "code",
   "execution_count": 4,
   "metadata": {
    "collapsed": true
   },
   "outputs": [],
   "source": [
    "train_df = pd.read_json('datasets/train.json')"
   ]
  },
  {
   "cell_type": "markdown",
   "metadata": {},
   "source": [
    "# Drop Duplicates"
   ]
  },
  {
   "cell_type": "code",
   "execution_count": 5,
   "metadata": {
    "collapsed": false
   },
   "outputs": [
    {
     "name": "stdout",
     "output_type": "stream",
     "text": [
      "(49352, 15)\n",
      "(45259, 15)\n"
     ]
    }
   ],
   "source": [
    "print(train_df.shape)\n",
    "duplicate_columns = ['bathrooms', 'bedrooms', 'building_id', 'description', 'display_address', 'latitude', 'longitude', 'manager_id', 'price', 'street_address']\n",
    "train_df_deduped = train_df.drop_duplicates(duplicate_columns)\n",
    "print(train_df_deduped.shape)"
   ]
  },
  {
   "cell_type": "markdown",
   "metadata": {},
   "source": [
    "# Drop Price Outliers"
   ]
  },
  {
   "cell_type": "code",
   "execution_count": 12,
   "metadata": {
    "collapsed": false
   },
   "outputs": [
    {
     "data": {
      "text/plain": [
       "(45253, 15)"
      ]
     },
     "execution_count": 12,
     "metadata": {},
     "output_type": "execute_result"
    }
   ],
   "source": [
    "train_df_deduped = train_df_deduped[(train_df_deduped['price'] > 50) & (train_df_deduped['price'] < 1000000)]\n",
    "train_df_deduped.shape"
   ]
  },
  {
   "cell_type": "markdown",
   "metadata": {},
   "source": [
    "# Feature Engineering"
   ]
  },
  {
   "cell_type": "code",
   "execution_count": 20,
   "metadata": {
    "collapsed": false
   },
   "outputs": [],
   "source": [
    "train_df_deduped['description_length'] = train_df_deduped['description'].apply(lambda x: len(x))"
   ]
  },
  {
   "cell_type": "code",
   "execution_count": 21,
   "metadata": {
    "collapsed": false
   },
   "outputs": [],
   "source": [
    "train_df_deduped['num_photos'] = train_df_deduped['photos'].apply(lambda x: len(x))"
   ]
  },
  {
   "cell_type": "code",
   "execution_count": 22,
   "metadata": {
    "collapsed": false
   },
   "outputs": [],
   "source": [
    "train_df_deduped['num_features'] = train_df_deduped['features'].apply(lambda x: len(x))"
   ]
  },
  {
   "cell_type": "markdown",
   "metadata": {},
   "source": [
    "# Dataset Split"
   ]
  },
  {
   "cell_type": "code",
   "execution_count": 23,
   "metadata": {
    "collapsed": true
   },
   "outputs": [],
   "source": [
    "X = train_df_deduped.drop('interest_level', axis = 1)\n",
    "y = train_df_deduped['interest_level']"
   ]
  },
  {
   "cell_type": "code",
   "execution_count": 24,
   "metadata": {
    "collapsed": false
   },
   "outputs": [],
   "source": [
    "X_train, X_test, y_train, y_test = train_test_split(X, y, test_size = .3, random_state = 42)"
   ]
  },
  {
   "cell_type": "code",
   "execution_count": 26,
   "metadata": {
    "collapsed": false
   },
   "outputs": [
    {
     "name": "stdout",
     "output_type": "stream",
     "text": [
      "(31677, 17)\n",
      "(13576, 17)\n",
      "(31677L,)\n",
      "(13576L,)\n"
     ]
    }
   ],
   "source": [
    "print(X_train.shape)\n",
    "print(X_test.shape)\n",
    "print(y_train.shape)\n",
    "print(y_test.shape)"
   ]
  },
  {
   "cell_type": "code",
   "execution_count": 27,
   "metadata": {
    "collapsed": false
   },
   "outputs": [
    {
     "name": "stdout",
     "output_type": "stream",
     "text": [
      "high: 0.0750 | 0.0787\n",
      "medium: 0.2200 | 0.2213\n",
      "low: 0.7050 | 0.7001\n"
     ]
    }
   ],
   "source": [
    "y_train_split = {key: value*1.0/y_train.shape[0] for key, value in zip(y_train.value_counts().keys(),y_train.value_counts())}\n",
    "y_test_split = {key: value*1.0/y_test.shape[0] for key, value in zip(y_test.value_counts().keys(),y_test.value_counts())}\n",
    "for key in y_train_split.keys():\n",
    "    print(\"{0}: {1:.4f} | {2:.4f}\".format(key, y_train_split[key], y_test_split[key]))"
   ]
  },
  {
   "cell_type": "markdown",
   "metadata": {},
   "source": [
    "# Predict Single Class"
   ]
  },
  {
   "cell_type": "code",
   "execution_count": 28,
   "metadata": {
    "collapsed": false
   },
   "outputs": [
    {
     "name": "stdout",
     "output_type": "stream",
     "text": [
      "Log Loss: 1.6469\n",
      "Accuracy: 0.7001\n"
     ]
    },
    {
     "data": {
      "image/png": "[encoded data removed]",
      "text/plain": [
       "<matplotlib.figure.Figure at 0x24a79630>"
      ]
     },
     "metadata": {},
     "output_type": "display_data"
    }
   ],
   "source": [
    "probabilities = np.zeros((X_test.shape[0],  3))\n",
    "probabilities[:, 0] = .7\n",
    "probabilities[:, 1] = .22\n",
    "probabilities[:, 2] = .08\n",
    "print(\"Log Loss: {0:.4f}\".format(log_loss(y_test, probabilities)))\n",
    "predictions = y_test.apply(lambda x: 'low')\n",
    "print(\"Accuracy: {0:.4f}\".format(accuracy_score(y_test, predictions)))\n",
    "cm = confusion_matrix(y_test, predictions, labels = ['low', 'medium', 'high'])\n",
    "cm = cm.astype('float') / cm.sum(axis=1)[:, np.newaxis]\n",
    "df_cm = pd.DataFrame(cm, index = ['low', 'medium', 'high'], columns = ['low', 'medium', 'high'])\n",
    "plt.figure(figsize = (10,7))\n",
    "sn.heatmap(df_cm, annot=True, fmt='.3f', cmap='Blues')\n",
    "plt.ylabel('True label')\n",
    "plt.xlabel('Predicted label')\n",
    "plt.show()"
   ]
  },
  {
   "cell_type": "markdown",
   "metadata": {},
   "source": [
    "# Base Model"
   ]
  },
  {
   "cell_type": "code",
   "execution_count": 29,
   "metadata": {
    "collapsed": true
   },
   "outputs": [],
   "source": [
    "base_features_to_use = ['bathrooms', 'bedrooms', 'price']"
   ]
  },
  {
   "cell_type": "code",
   "execution_count": 32,
   "metadata": {
    "collapsed": false
   },
   "outputs": [
    {
     "name": "stdout",
     "output_type": "stream",
     "text": [
      "Log Loss: 0.7257\n",
      "Accuracy: 0.6962\n"
     ]
    },
    {
     "data": {
      "image/png": "[encoded data removed]",
      "text/plain": [
       "<matplotlib.figure.Figure at 0x1fb29f60>"
      ]
     },
     "metadata": {},
     "output_type": "display_data"
    }
   ],
   "source": [
    "basic_logreg = LogReg()\n",
    "basic_logreg.fit(X_train[base_features_to_use], y_train.values)\n",
    "model_results(basic_logreg, X_test[base_features_to_use], y_test)"
   ]
  },
  {
   "cell_type": "markdown",
   "metadata": {},
   "source": [
    "# Base Model Grid Search"
   ]
  },
  {
   "cell_type": "code",
   "execution_count": 33,
   "metadata": {
    "collapsed": false
   },
   "outputs": [
    {
     "name": "stderr",
     "output_type": "stream",
     "text": [
      "C:\\Users\\Ihsaan Patel\\Anaconda2\\lib\\site-packages\\scipy\\optimize\\linesearch.py:285: LineSearchWarning: The line search algorithm did not converge\n",
      "  warn('The line search algorithm did not converge', LineSearchWarning)\n",
      "C:\\Users\\Ihsaan Patel\\Anaconda2\\lib\\site-packages\\sklearn\\utils\\optimize.py:193: UserWarning: Line Search failed\n",
      "  warnings.warn('Line Search failed')\n"
     ]
    },
    {
     "data": {
      "text/plain": [
       "[mean: -1.03741, std: 0.00386, params: {'multi_class': 'ovr', 'C': 1e-07, 'solver': 'newton-cg', 'class_weight': 'balanced'},\n",
       " mean: -1.03890, std: 0.00315, params: {'multi_class': 'ovr', 'C': 1e-07, 'solver': 'lbfgs', 'class_weight': 'balanced'},\n",
       " mean: -1.03577, std: 0.00394, params: {'multi_class': 'multinomial', 'C': 1e-07, 'solver': 'newton-cg', 'class_weight': 'balanced'},\n",
       " mean: -1.04008, std: 0.00429, params: {'multi_class': 'multinomial', 'C': 1e-07, 'solver': 'lbfgs', 'class_weight': 'balanced'},\n",
       " mean: -0.74131, std: 0.00193, params: {'multi_class': 'ovr', 'C': 1e-07, 'solver': 'newton-cg', 'class_weight': None},\n",
       " mean: -0.74287, std: 0.00233, params: {'multi_class': 'ovr', 'C': 1e-07, 'solver': 'lbfgs', 'class_weight': None},\n",
       " mean: -0.74135, std: 0.00199, params: {'multi_class': 'multinomial', 'C': 1e-07, 'solver': 'newton-cg', 'class_weight': None},\n",
       " mean: -0.74189, std: 0.00233, params: {'multi_class': 'multinomial', 'C': 1e-07, 'solver': 'lbfgs', 'class_weight': None},\n",
       " mean: -1.03710, std: 0.00386, params: {'multi_class': 'ovr', 'C': 1e-06, 'solver': 'newton-cg', 'class_weight': 'balanced'},\n",
       " mean: -1.03710, std: 0.00386, params: {'multi_class': 'ovr', 'C': 1e-06, 'solver': 'lbfgs', 'class_weight': 'balanced'},\n",
       " mean: -1.03529, std: 0.00394, params: {'multi_class': 'multinomial', 'C': 1e-06, 'solver': 'newton-cg', 'class_weight': 'balanced'},\n",
       " mean: -1.03959, std: 0.00429, params: {'multi_class': 'multinomial', 'C': 1e-06, 'solver': 'lbfgs', 'class_weight': 'balanced'},\n",
       " mean: -0.74118, std: 0.00193, params: {'multi_class': 'ovr', 'C': 1e-06, 'solver': 'newton-cg', 'class_weight': None},\n",
       " mean: -0.74172, std: 0.00161, params: {'multi_class': 'ovr', 'C': 1e-06, 'solver': 'lbfgs', 'class_weight': None},\n",
       " mean: -0.74110, std: 0.00199, params: {'multi_class': 'multinomial', 'C': 1e-06, 'solver': 'newton-cg', 'class_weight': None},\n",
       " mean: -0.74166, std: 0.00230, params: {'multi_class': 'multinomial', 'C': 1e-06, 'solver': 'lbfgs', 'class_weight': None},\n",
       " mean: -1.03456, std: 0.00388, params: {'multi_class': 'ovr', 'C': 1e-05, 'solver': 'newton-cg', 'class_weight': 'balanced'},\n",
       " mean: -1.03501, std: 0.00393, params: {'multi_class': 'ovr', 'C': 1e-05, 'solver': 'lbfgs', 'class_weight': 'balanced'},\n",
       " mean: -1.03105, std: 0.00392, params: {'multi_class': 'multinomial', 'C': 1e-05, 'solver': 'newton-cg', 'class_weight': 'balanced'},\n",
       " mean: -1.02514, std: 0.01910, params: {'multi_class': 'multinomial', 'C': 1e-05, 'solver': 'lbfgs', 'class_weight': 'balanced'},\n",
       " mean: -0.74006, std: 0.00190, params: {'multi_class': 'ovr', 'C': 1e-05, 'solver': 'newton-cg', 'class_weight': None},\n",
       " mean: -0.74052, std: 0.00189, params: {'multi_class': 'ovr', 'C': 1e-05, 'solver': 'lbfgs', 'class_weight': None},\n",
       " mean: -0.73888, std: 0.00195, params: {'multi_class': 'multinomial', 'C': 1e-05, 'solver': 'newton-cg', 'class_weight': None},\n",
       " mean: -0.73945, std: 0.00227, params: {'multi_class': 'multinomial', 'C': 1e-05, 'solver': 'lbfgs', 'class_weight': None},\n",
       " mean: -1.01935, std: 0.00406, params: {'multi_class': 'ovr', 'C': 0.0001, 'solver': 'newton-cg', 'class_weight': 'balanced'},\n",
       " mean: -1.01934, std: 0.00406, params: {'multi_class': 'ovr', 'C': 0.0001, 'solver': 'lbfgs', 'class_weight': 'balanced'},\n",
       " mean: -1.00990, std: 0.00398, params: {'multi_class': 'multinomial', 'C': 0.0001, 'solver': 'newton-cg', 'class_weight': 'balanced'},\n",
       " mean: -1.00377, std: 0.01686, params: {'multi_class': 'multinomial', 'C': 0.0001, 'solver': 'lbfgs', 'class_weight': 'balanced'},\n",
       " mean: -0.73267, std: 0.00177, params: {'multi_class': 'ovr', 'C': 0.0001, 'solver': 'newton-cg', 'class_weight': None},\n",
       " mean: -0.73309, std: 0.00182, params: {'multi_class': 'ovr', 'C': 0.0001, 'solver': 'lbfgs', 'class_weight': None},\n",
       " mean: -0.72792, std: 0.00187, params: {'multi_class': 'multinomial', 'C': 0.0001, 'solver': 'newton-cg', 'class_weight': None},\n",
       " mean: -0.72867, std: 0.00217, params: {'multi_class': 'multinomial', 'C': 0.0001, 'solver': 'lbfgs', 'class_weight': None},\n",
       " mean: -0.99969, std: 0.00462, params: {'multi_class': 'ovr', 'C': 0.001, 'solver': 'newton-cg', 'class_weight': 'balanced'},\n",
       " mean: -0.99659, std: 0.00605, params: {'multi_class': 'ovr', 'C': 0.001, 'solver': 'lbfgs', 'class_weight': 'balanced'},\n",
       " mean: -0.99282, std: 0.00437, params: {'multi_class': 'multinomial', 'C': 0.001, 'solver': 'newton-cg', 'class_weight': 'balanced'},\n",
       " mean: -0.97532, std: 0.01016, params: {'multi_class': 'multinomial', 'C': 0.001, 'solver': 'lbfgs', 'class_weight': 'balanced'},\n",
       " mean: -0.72079, std: 0.00220, params: {'multi_class': 'ovr', 'C': 0.001, 'solver': 'newton-cg', 'class_weight': None},\n",
       " mean: -0.72161, std: 0.00281, params: {'multi_class': 'ovr', 'C': 0.001, 'solver': 'lbfgs', 'class_weight': None},\n",
       " mean: -0.71841, std: 0.00261, params: {'multi_class': 'multinomial', 'C': 0.001, 'solver': 'newton-cg', 'class_weight': None},\n",
       " mean: -0.72085, std: 0.00289, params: {'multi_class': 'multinomial', 'C': 0.001, 'solver': 'lbfgs', 'class_weight': None},\n",
       " mean: -0.99532, std: 0.00475, params: {'multi_class': 'ovr', 'C': 0.01, 'solver': 'newton-cg', 'class_weight': 'balanced'},\n",
       " mean: -0.99228, std: 0.00436, params: {'multi_class': 'ovr', 'C': 0.01, 'solver': 'lbfgs', 'class_weight': 'balanced'},\n",
       " mean: -0.99077, std: 0.00443, params: {'multi_class': 'multinomial', 'C': 0.01, 'solver': 'newton-cg', 'class_weight': 'balanced'},\n",
       " mean: -0.97560, std: 0.01045, params: {'multi_class': 'multinomial', 'C': 0.01, 'solver': 'lbfgs', 'class_weight': 'balanced'},\n",
       " mean: -0.71830, std: 0.00286, params: {'multi_class': 'ovr', 'C': 0.01, 'solver': 'newton-cg', 'class_weight': None},\n",
       " mean: -0.71952, std: 0.00352, params: {'multi_class': 'ovr', 'C': 0.01, 'solver': 'lbfgs', 'class_weight': None},\n",
       " mean: -0.71701, std: 0.00312, params: {'multi_class': 'multinomial', 'C': 0.01, 'solver': 'newton-cg', 'class_weight': None},\n",
       " mean: -0.71913, std: 0.00435, params: {'multi_class': 'multinomial', 'C': 0.01, 'solver': 'lbfgs', 'class_weight': None},\n",
       " mean: -0.99484, std: 0.00475, params: {'multi_class': 'ovr', 'C': 0.1, 'solver': 'newton-cg', 'class_weight': 'balanced'},\n",
       " mean: -0.98983, std: 0.00829, params: {'multi_class': 'ovr', 'C': 0.1, 'solver': 'lbfgs', 'class_weight': 'balanced'},\n",
       " mean: -0.99061, std: 0.00440, params: {'multi_class': 'multinomial', 'C': 0.1, 'solver': 'newton-cg', 'class_weight': 'balanced'},\n",
       " mean: -0.97286, std: 0.00920, params: {'multi_class': 'multinomial', 'C': 0.1, 'solver': 'lbfgs', 'class_weight': 'balanced'},\n",
       " mean: -0.71812, std: 0.00298, params: {'multi_class': 'ovr', 'C': 0.1, 'solver': 'newton-cg', 'class_weight': None},\n",
       " mean: -0.71944, std: 0.00351, params: {'multi_class': 'ovr', 'C': 0.1, 'solver': 'lbfgs', 'class_weight': None},\n",
       " mean: -0.71690, std: 0.00321, params: {'multi_class': 'multinomial', 'C': 0.1, 'solver': 'newton-cg', 'class_weight': None},\n",
       " mean: -0.71972, std: 0.00437, params: {'multi_class': 'multinomial', 'C': 0.1, 'solver': 'lbfgs', 'class_weight': None},\n",
       " mean: -0.99479, std: 0.00475, params: {'multi_class': 'ovr', 'C': 1, 'solver': 'newton-cg', 'class_weight': 'balanced'},\n",
       " mean: -0.98958, std: 0.00838, params: {'multi_class': 'ovr', 'C': 1, 'solver': 'lbfgs', 'class_weight': 'balanced'},\n",
       " mean: -0.99060, std: 0.00440, params: {'multi_class': 'multinomial', 'C': 1, 'solver': 'newton-cg', 'class_weight': 'balanced'},\n",
       " mean: -0.97657, std: 0.01124, params: {'multi_class': 'multinomial', 'C': 1, 'solver': 'lbfgs', 'class_weight': 'balanced'},\n",
       " mean: -0.71811, std: 0.00300, params: {'multi_class': 'ovr', 'C': 1, 'solver': 'newton-cg', 'class_weight': None},\n",
       " mean: -0.71946, std: 0.00356, params: {'multi_class': 'ovr', 'C': 1, 'solver': 'lbfgs', 'class_weight': None},\n",
       " mean: -0.71689, std: 0.00322, params: {'multi_class': 'multinomial', 'C': 1, 'solver': 'newton-cg', 'class_weight': None},\n",
       " mean: -0.71907, std: 0.00445, params: {'multi_class': 'multinomial', 'C': 1, 'solver': 'lbfgs', 'class_weight': None},\n",
       " mean: -0.99478, std: 0.00475, params: {'multi_class': 'ovr', 'C': 10, 'solver': 'newton-cg', 'class_weight': 'balanced'},\n",
       " mean: -0.98956, std: 0.00834, params: {'multi_class': 'ovr', 'C': 10, 'solver': 'lbfgs', 'class_weight': 'balanced'},\n",
       " mean: -0.99060, std: 0.00440, params: {'multi_class': 'multinomial', 'C': 10, 'solver': 'newton-cg', 'class_weight': 'balanced'},\n",
       " mean: -0.97657, std: 0.01125, params: {'multi_class': 'multinomial', 'C': 10, 'solver': 'lbfgs', 'class_weight': 'balanced'},\n",
       " mean: -0.71811, std: 0.00300, params: {'multi_class': 'ovr', 'C': 10, 'solver': 'newton-cg', 'class_weight': None},\n",
       " mean: -0.71926, std: 0.00357, params: {'multi_class': 'ovr', 'C': 10, 'solver': 'lbfgs', 'class_weight': None},\n",
       " mean: -0.71689, std: 0.00322, params: {'multi_class': 'multinomial', 'C': 10, 'solver': 'newton-cg', 'class_weight': None},\n",
       " mean: -0.71907, std: 0.00445, params: {'multi_class': 'multinomial', 'C': 10, 'solver': 'lbfgs', 'class_weight': None},\n",
       " mean: -0.99478, std: 0.00475, params: {'multi_class': 'ovr', 'C': 100, 'solver': 'newton-cg', 'class_weight': 'balanced'},\n",
       " mean: -0.98963, std: 0.00819, params: {'multi_class': 'ovr', 'C': 100, 'solver': 'lbfgs', 'class_weight': 'balanced'},\n",
       " mean: -0.99060, std: 0.00440, params: {'multi_class': 'multinomial', 'C': 100, 'solver': 'newton-cg', 'class_weight': 'balanced'},\n",
       " mean: -0.97657, std: 0.01125, params: {'multi_class': 'multinomial', 'C': 100, 'solver': 'lbfgs', 'class_weight': 'balanced'},\n",
       " mean: -0.71811, std: 0.00300, params: {'multi_class': 'ovr', 'C': 100, 'solver': 'newton-cg', 'class_weight': None},\n",
       " mean: -0.71926, std: 0.00358, params: {'multi_class': 'ovr', 'C': 100, 'solver': 'lbfgs', 'class_weight': None},\n",
       " mean: -0.71689, std: 0.00322, params: {'multi_class': 'multinomial', 'C': 100, 'solver': 'newton-cg', 'class_weight': None},\n",
       " mean: -0.71907, std: 0.00445, params: {'multi_class': 'multinomial', 'C': 100, 'solver': 'lbfgs', 'class_weight': None},\n",
       " mean: -0.99478, std: 0.00475, params: {'multi_class': 'ovr', 'C': 1000, 'solver': 'newton-cg', 'class_weight': 'balanced'},\n",
       " mean: -0.98963, std: 0.00819, params: {'multi_class': 'ovr', 'C': 1000, 'solver': 'lbfgs', 'class_weight': 'balanced'},\n",
       " mean: -0.99060, std: 0.00440, params: {'multi_class': 'multinomial', 'C': 1000, 'solver': 'newton-cg', 'class_weight': 'balanced'},\n",
       " mean: -0.97657, std: 0.01125, params: {'multi_class': 'multinomial', 'C': 1000, 'solver': 'lbfgs', 'class_weight': 'balanced'},\n",
       " mean: -0.71811, std: 0.00300, params: {'multi_class': 'ovr', 'C': 1000, 'solver': 'newton-cg', 'class_weight': None},\n",
       " mean: -0.71926, std: 0.00357, params: {'multi_class': 'ovr', 'C': 1000, 'solver': 'lbfgs', 'class_weight': None},\n",
       " mean: -0.71689, std: 0.00322, params: {'multi_class': 'multinomial', 'C': 1000, 'solver': 'newton-cg', 'class_weight': None},\n",
       " mean: -0.71907, std: 0.00445, params: {'multi_class': 'multinomial', 'C': 1000, 'solver': 'lbfgs', 'class_weight': None},\n",
       " mean: -0.99478, std: 0.00475, params: {'multi_class': 'ovr', 'C': 10000, 'solver': 'newton-cg', 'class_weight': 'balanced'},\n",
       " mean: -0.98963, std: 0.00819, params: {'multi_class': 'ovr', 'C': 10000, 'solver': 'lbfgs', 'class_weight': 'balanced'},\n",
       " mean: -0.99060, std: 0.00440, params: {'multi_class': 'multinomial', 'C': 10000, 'solver': 'newton-cg', 'class_weight': 'balanced'},\n",
       " mean: -0.97657, std: 0.01125, params: {'multi_class': 'multinomial', 'C': 10000, 'solver': 'lbfgs', 'class_weight': 'balanced'},\n",
       " mean: -0.71811, std: 0.00300, params: {'multi_class': 'ovr', 'C': 10000, 'solver': 'newton-cg', 'class_weight': None},\n",
       " mean: -0.71926, std: 0.00357, params: {'multi_class': 'ovr', 'C': 10000, 'solver': 'lbfgs', 'class_weight': None},\n",
       " mean: -0.71689, std: 0.00322, params: {'multi_class': 'multinomial', 'C': 10000, 'solver': 'newton-cg', 'class_weight': None},\n",
       " mean: -0.71907, std: 0.00445, params: {'multi_class': 'multinomial', 'C': 10000, 'solver': 'lbfgs', 'class_weight': None},\n",
       " mean: -0.99478, std: 0.00475, params: {'multi_class': 'ovr', 'C': 100000, 'solver': 'newton-cg', 'class_weight': 'balanced'},\n",
       " mean: -0.98963, std: 0.00819, params: {'multi_class': 'ovr', 'C': 100000, 'solver': 'lbfgs', 'class_weight': 'balanced'},\n",
       " mean: -0.99060, std: 0.00440, params: {'multi_class': 'multinomial', 'C': 100000, 'solver': 'newton-cg', 'class_weight': 'balanced'},\n",
       " mean: -0.97657, std: 0.01125, params: {'multi_class': 'multinomial', 'C': 100000, 'solver': 'lbfgs', 'class_weight': 'balanced'},\n",
       " mean: -0.71811, std: 0.00300, params: {'multi_class': 'ovr', 'C': 100000, 'solver': 'newton-cg', 'class_weight': None},\n",
       " mean: -0.71926, std: 0.00357, params: {'multi_class': 'ovr', 'C': 100000, 'solver': 'lbfgs', 'class_weight': None},\n",
       " mean: -0.71689, std: 0.00322, params: {'multi_class': 'multinomial', 'C': 100000, 'solver': 'newton-cg', 'class_weight': None},\n",
       " mean: -0.71907, std: 0.00445, params: {'multi_class': 'multinomial', 'C': 100000, 'solver': 'lbfgs', 'class_weight': None},\n",
       " mean: -0.99478, std: 0.00475, params: {'multi_class': 'ovr', 'C': 1000000, 'solver': 'newton-cg', 'class_weight': 'balanced'},\n",
       " mean: -0.98963, std: 0.00819, params: {'multi_class': 'ovr', 'C': 1000000, 'solver': 'lbfgs', 'class_weight': 'balanced'},\n",
       " mean: -0.99060, std: 0.00440, params: {'multi_class': 'multinomial', 'C': 1000000, 'solver': 'newton-cg', 'class_weight': 'balanced'},\n",
       " mean: -0.97657, std: 0.01125, params: {'multi_class': 'multinomial', 'C': 1000000, 'solver': 'lbfgs', 'class_weight': 'balanced'},\n",
       " mean: -0.71811, std: 0.00300, params: {'multi_class': 'ovr', 'C': 1000000, 'solver': 'newton-cg', 'class_weight': None},\n",
       " mean: -0.71926, std: 0.00357, params: {'multi_class': 'ovr', 'C': 1000000, 'solver': 'lbfgs', 'class_weight': None},\n",
       " mean: -0.71689, std: 0.00322, params: {'multi_class': 'multinomial', 'C': 1000000, 'solver': 'newton-cg', 'class_weight': None},\n",
       " mean: -0.71907, std: 0.00445, params: {'multi_class': 'multinomial', 'C': 1000000, 'solver': 'lbfgs', 'class_weight': None},\n",
       " mean: -0.99478, std: 0.00475, params: {'multi_class': 'ovr', 'C': 10000000, 'solver': 'newton-cg', 'class_weight': 'balanced'},\n",
       " mean: -0.98963, std: 0.00819, params: {'multi_class': 'ovr', 'C': 10000000, 'solver': 'lbfgs', 'class_weight': 'balanced'},\n",
       " mean: -0.99060, std: 0.00440, params: {'multi_class': 'multinomial', 'C': 10000000, 'solver': 'newton-cg', 'class_weight': 'balanced'},\n",
       " mean: -0.97657, std: 0.01125, params: {'multi_class': 'multinomial', 'C': 10000000, 'solver': 'lbfgs', 'class_weight': 'balanced'},\n",
       " mean: -0.71811, std: 0.00300, params: {'multi_class': 'ovr', 'C': 10000000, 'solver': 'newton-cg', 'class_weight': None},\n",
       " mean: -0.71926, std: 0.00357, params: {'multi_class': 'ovr', 'C': 10000000, 'solver': 'lbfgs', 'class_weight': None},\n",
       " mean: -0.71689, std: 0.00322, params: {'multi_class': 'multinomial', 'C': 10000000, 'solver': 'newton-cg', 'class_weight': None},\n",
       " mean: -0.71907, std: 0.00445, params: {'multi_class': 'multinomial', 'C': 10000000, 'solver': 'lbfgs', 'class_weight': None}]"
      ]
     },
     "execution_count": 33,
     "metadata": {},
     "output_type": "execute_result"
    }
   ],
   "source": [
    "lr = LogReg()\n",
    "parameters = {'solver' : ['newton-cg', 'lbfgs'], 'multi_class' : ['ovr', 'multinomial'],\n",
    "              'class_weight' : ['balanced', None], 'C' : [10**c for c in range(-7, 8)]}\n",
    "lr_cv = GridSearchCV(lr, parameters, scoring = \"log_loss\", cv = 5, error_score = 100)\n",
    "lr_cv.fit(X_train[base_features_to_use], y_train)\n",
    "lr_grid_scores = lr.grid_scores_"
   ]
  },
  {
   "cell_type": "code",
   "execution_count": 34,
   "metadata": {
    "collapsed": false
   },
   "outputs": [
    {
     "name": "stdout",
     "output_type": "stream",
     "text": [
      "Log Loss: 0.7237\n",
      "Accuracy: 0.6976\n"
     ]
    },
    {
     "data": {
      "image/png": "[encoded data removed]",
      "text/plain": [
       "<matplotlib.figure.Figure at 0x1fb29d68>"
      ]
     },
     "metadata": {},
     "output_type": "display_data"
    }
   ],
   "source": [
    "lr_best = lr_cv.best_estimator_\n",
    "lr_best.fit(X_train[base_features_to_use], y_train)\n",
    "model_results(lr_best, X_test[base_features_to_use], y_test)"
   ]
  },
  {
   "cell_type": "markdown",
   "metadata": {},
   "source": [
    "# Random Forest"
   ]
  },
  {
   "cell_type": "code",
   "execution_count": 36,
   "metadata": {
    "collapsed": true
   },
   "outputs": [],
   "source": [
    "rf = RandomForestClassifier()\n",
    "rf_parameters = {'n_estimators': [10, 50, 100, 250, 500], 'criterion': ['gini', 'entropy'], \n",
    "                 'max_features' : ['auto', 'sqrt', 'log2'], 'min_samples_leaf' : [1, 10, 20, 50, 100], \n",
    "                'random_state': [42], 'class_weight' : [None, 'balanced', 'balanced_subsample']}\n",
    "rf_cv = GridSearchCV(rf, rf_parameters, scoring = \"log_loss\", cv = 5, error_score = 100)\n",
    "rf_cv.fit(X_train[base_features_to_use], y_train)\n",
    "rf_grid_scores = rf_cv.grid_scores_"
   ]
  },
  {
   "cell_type": "code",
   "execution_count": 37,
   "metadata": {
    "collapsed": false
   },
   "outputs": [
    {
     "name": "stdout",
     "output_type": "stream",
     "text": [
      "Log Loss: 0.6972\n",
      "Accuracy: 0.7074\n"
     ]
    },
    {
     "data": {
      "image/png": "[encoded data removed]",
      "text/plain": [
       "<matplotlib.figure.Figure at 0x1da144e0>"
      ]
     },
     "metadata": {},
     "output_type": "display_data"
    }
   ],
   "source": [
    "rf_best = rf_cv.best_estimator_\n",
    "rf_best.fit(X_train[base_features_to_use], y_train)\n",
    "model_results(rf_best, X_test[base_features_to_use], y_test)"
   ]
  }
 ],
 "metadata": {
  "anaconda-cloud": {},
  "kernelspec": {
   "display_name": "Python [Root]",
   "language": "python",
   "name": "Python [Root]"
  },
  "language_info": {
   "codemirror_mode": {
    "name": "ipython",
    "version": 2
   },
   "file_extension": ".py",
   "mimetype": "text/x-python",
   "name": "python",
   "nbconvert_exporter": "python",
   "pygments_lexer": "ipython2",
   "version": "2.7.13"
  }
 },
 "nbformat": 4,
 "nbformat_minor": 0
}
