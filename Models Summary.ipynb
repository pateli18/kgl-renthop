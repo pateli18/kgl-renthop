{
 "cells": [
  {
   "cell_type": "markdown",
   "metadata": {},
   "source": [
    "# Libraries and Helper Function"
   ]
  },
  {
   "cell_type": "code",
   "execution_count": 1,
   "metadata": {
    "collapsed": false
   },
   "outputs": [],
   "source": [
    "import pandas as pd\n",
    "import numpy as np\n",
    "import seaborn as sn\n",
    "import matplotlib.pyplot as plt\n",
    "import pylab\n",
    "from ast import literal_eval\n",
    "%matplotlib inline"
   ]
  },
  {
   "cell_type": "code",
   "execution_count": 2,
   "metadata": {
    "collapsed": false
   },
   "outputs": [],
   "source": [
    "def model_results(model_number, df):\n",
    "    print(\"Log Loss: {0:.4f}\".format(df.iloc[model_number]['log_loss']))\n",
    "    print(\"Accuracy: {0:.4f}\".format(df.iloc[model_number]['accuracy']))\n",
    "    cm = df_chosen_model.iloc[model_number]['confusion_matrix']\n",
    "    cm = cm.replace('\\n',' ').replace('  ', ',').replace(',,', ',')\n",
    "    cm = np.matrix(literal_eval(cm))\n",
    "    cm = cm.astype('float') / cm.sum(axis=1)\n",
    "    df_cm = pd.DataFrame(cm, index = ['low', 'medium', 'high'], columns = ['low', 'medium', 'high'])\n",
    "    plt.figure(figsize = (10,7))\n",
    "    sn.heatmap(df_cm, annot=True, fmt='.3f', cmap='Blues')\n",
    "    plt.ylabel('True label')\n",
    "    plt.xlabel('Predicted label')\n",
    "    plt.show()"
   ]
  },
  {
   "cell_type": "code",
   "execution_count": 3,
   "metadata": {
    "collapsed": true
   },
   "outputs": [],
   "source": [
    "def get_feature_importance(model_number, df, num_features = None):\n",
    "    feature_importance = df_chosen_model.iloc[model_number]['feature_importances']\n",
    "    feature_importance = literal_eval(feature_importance.replace('  ', ',').replace(',,', ',').replace(',,', ',').replace(',,', ','))\n",
    "    indices = np.argsort(feature_importance)[::-1]\n",
    "    feature_importance = [feature_importance[i] for i in indices]\n",
    "    predictors = literal_eval(df.iloc[model_number]['predictors'])\n",
    "    predictors = [predictors[i] for i in indices]\n",
    "    predictors_index = range(1, len(predictors) + 1)\n",
    "    num_features = len(predictors) if num_features is None else num_features\n",
    "    plt.bar(predictors_index[:num_features], feature_importance[:num_features], align = 'center')\n",
    "    plt.xticks(predictors_index[:num_features], predictors[:num_features], rotation = 'vertical')\n",
    "    plt.show()"
   ]
  },
  {
   "cell_type": "markdown",
   "metadata": {},
   "source": [
    "# Load Data"
   ]
  },
  {
   "cell_type": "code",
   "execution_count": 4,
   "metadata": {
    "collapsed": false
   },
   "outputs": [],
   "source": [
    "df_model_performance = pd.read_csv('Model Evaluation/model_performance.csv')\n",
    "df_chosen_model = pd.read_csv('Model Evaluation/chosen_model.csv')"
   ]
  },
  {
   "cell_type": "code",
   "execution_count": 5,
   "metadata": {
    "collapsed": false
   },
   "outputs": [
    {
     "data": {
      "text/html": [
       "<div>\n",
       "<table border=\"1\" class=\"dataframe\">\n",
       "  <thead>\n",
       "    <tr style=\"text-align: right;\">\n",
       "      <th></th>\n",
       "      <th>cv_folds</th>\n",
       "      <th>model</th>\n",
       "      <th>parameters</th>\n",
       "      <th>predictors</th>\n",
       "      <th>score</th>\n",
       "      <th>score_std</th>\n",
       "      <th>timestamp</th>\n",
       "    </tr>\n",
       "  </thead>\n",
       "  <tbody>\n",
       "    <tr>\n",
       "      <th>0</th>\n",
       "      <td>5</td>\n",
       "      <td>log</td>\n",
       "      <td>{'multi_class': 'multinomial', 'C': 0.001, 'so...</td>\n",
       "      <td>['bathrooms', 'bedrooms', 'price']</td>\n",
       "      <td>-0.992815</td>\n",
       "      <td>0.004374</td>\n",
       "      <td>3/16/2017 18:17</td>\n",
       "    </tr>\n",
       "    <tr>\n",
       "      <th>1</th>\n",
       "      <td>5</td>\n",
       "      <td>log</td>\n",
       "      <td>{'multi_class': 'multinomial', 'C': 0.001, 'so...</td>\n",
       "      <td>['bathrooms', 'bedrooms', 'price']</td>\n",
       "      <td>-0.718412</td>\n",
       "      <td>0.002610</td>\n",
       "      <td>3/16/2017 18:17</td>\n",
       "    </tr>\n",
       "    <tr>\n",
       "      <th>2</th>\n",
       "      <td>5</td>\n",
       "      <td>log</td>\n",
       "      <td>{'multi_class': 'multinomial', 'C': 0.01, 'sol...</td>\n",
       "      <td>['bathrooms', 'bedrooms', 'price']</td>\n",
       "      <td>-0.990766</td>\n",
       "      <td>0.004427</td>\n",
       "      <td>3/16/2017 18:17</td>\n",
       "    </tr>\n",
       "    <tr>\n",
       "      <th>3</th>\n",
       "      <td>5</td>\n",
       "      <td>log</td>\n",
       "      <td>{'multi_class': 'multinomial', 'C': 0.01, 'sol...</td>\n",
       "      <td>['bathrooms', 'bedrooms', 'price']</td>\n",
       "      <td>-0.717009</td>\n",
       "      <td>0.003120</td>\n",
       "      <td>3/16/2017 18:17</td>\n",
       "    </tr>\n",
       "    <tr>\n",
       "      <th>4</th>\n",
       "      <td>5</td>\n",
       "      <td>log</td>\n",
       "      <td>{'multi_class': 'multinomial', 'C': 0.1, 'solv...</td>\n",
       "      <td>['bathrooms', 'bedrooms', 'price']</td>\n",
       "      <td>-0.990610</td>\n",
       "      <td>0.004403</td>\n",
       "      <td>3/16/2017 18:17</td>\n",
       "    </tr>\n",
       "  </tbody>\n",
       "</table>\n",
       "</div>"
      ],
      "text/plain": [
       "   cv_folds model                                         parameters  \\\n",
       "0         5   log  {'multi_class': 'multinomial', 'C': 0.001, 'so...   \n",
       "1         5   log  {'multi_class': 'multinomial', 'C': 0.001, 'so...   \n",
       "2         5   log  {'multi_class': 'multinomial', 'C': 0.01, 'sol...   \n",
       "3         5   log  {'multi_class': 'multinomial', 'C': 0.01, 'sol...   \n",
       "4         5   log  {'multi_class': 'multinomial', 'C': 0.1, 'solv...   \n",
       "\n",
       "                           predictors     score  score_std        timestamp  \n",
       "0  ['bathrooms', 'bedrooms', 'price'] -0.992815   0.004374  3/16/2017 18:17  \n",
       "1  ['bathrooms', 'bedrooms', 'price'] -0.718412   0.002610  3/16/2017 18:17  \n",
       "2  ['bathrooms', 'bedrooms', 'price'] -0.990766   0.004427  3/16/2017 18:17  \n",
       "3  ['bathrooms', 'bedrooms', 'price'] -0.717009   0.003120  3/16/2017 18:17  \n",
       "4  ['bathrooms', 'bedrooms', 'price'] -0.990610   0.004403  3/16/2017 18:17  "
      ]
     },
     "execution_count": 5,
     "metadata": {},
     "output_type": "execute_result"
    }
   ],
   "source": [
    "df_model_performance.head()"
   ]
  },
  {
   "cell_type": "code",
   "execution_count": 6,
   "metadata": {
    "collapsed": false
   },
   "outputs": [
    {
     "data": {
      "text/html": [
       "<div>\n",
       "<table border=\"1\" class=\"dataframe\">\n",
       "  <thead>\n",
       "    <tr style=\"text-align: right;\">\n",
       "      <th></th>\n",
       "      <th>accuracy</th>\n",
       "      <th>confusion_matrix</th>\n",
       "      <th>feature_importances</th>\n",
       "      <th>log_loss</th>\n",
       "      <th>model</th>\n",
       "      <th>parameters</th>\n",
       "      <th>predictors</th>\n",
       "      <th>timestamp</th>\n",
       "    </tr>\n",
       "  </thead>\n",
       "  <tbody>\n",
       "    <tr>\n",
       "      <th>0</th>\n",
       "      <td>0.697628</td>\n",
       "      <td>[[9405   98    1]\\r\\r\\n [2943   60    1]\\r\\r\\n...</td>\n",
       "      <td>NaN</td>\n",
       "      <td>0.723703</td>\n",
       "      <td>log</td>\n",
       "      <td>{'multi_class': 'multinomial', 'C': 1000, 'sol...</td>\n",
       "      <td>['bathrooms', 'bedrooms', 'price']</td>\n",
       "      <td>3/16/2017 18:17</td>\n",
       "    </tr>\n",
       "    <tr>\n",
       "      <th>1</th>\n",
       "      <td>0.707793</td>\n",
       "      <td>[[9367  104   33]\\r\\r\\n [2853  109   42]\\r\\r\\n...</td>\n",
       "      <td>[ 0.07521602  0.14711349  0.77767049]</td>\n",
       "      <td>0.699523</td>\n",
       "      <td>rf</td>\n",
       "      <td>{'max_features': 'auto', 'n_estimators': 500, ...</td>\n",
       "      <td>['bathrooms', 'bedrooms', 'price']</td>\n",
       "      <td>3/16/2017 18:30</td>\n",
       "    </tr>\n",
       "    <tr>\n",
       "      <th>2</th>\n",
       "      <td>0.709708</td>\n",
       "      <td>[[9387   67   50]\\r\\r\\n [2855   91   58]\\r\\r\\n...</td>\n",
       "      <td>[ 0.11066017  0.21640541  0.67293441]</td>\n",
       "      <td>0.693431</td>\n",
       "      <td>xgb</td>\n",
       "      <td>{'n_estimators': 500, 'objective': 'multi:soft...</td>\n",
       "      <td>['bathrooms', 'bedrooms', 'price']</td>\n",
       "      <td>3/16/2017 18:41</td>\n",
       "    </tr>\n",
       "    <tr>\n",
       "      <th>3</th>\n",
       "      <td>0.693503</td>\n",
       "      <td>[[9258  245    1]\\r\\r\\n [2855  149    0]\\r\\r\\n...</td>\n",
       "      <td>NaN</td>\n",
       "      <td>0.709257</td>\n",
       "      <td>log</td>\n",
       "      <td>{'multi_class': 'multinomial', 'C': 1000, 'sol...</td>\n",
       "      <td>['price', 'bedrooms', 'bathrooms', 'descriptio...</td>\n",
       "      <td>3/16/2017 18:59</td>\n",
       "    </tr>\n",
       "    <tr>\n",
       "      <th>4</th>\n",
       "      <td>0.713465</td>\n",
       "      <td>[[9160  310   34]\\r\\r\\n [2567  379   58]\\r\\r\\n...</td>\n",
       "      <td>[ 0.37278375  0.10014773  0.02617405  0.189851...</td>\n",
       "      <td>0.653079</td>\n",
       "      <td>rf</td>\n",
       "      <td>{'max_features': 'auto', 'n_estimators': 500, ...</td>\n",
       "      <td>['price', 'bedrooms', 'bathrooms', 'descriptio...</td>\n",
       "      <td>3/16/2017 19:25</td>\n",
       "    </tr>\n",
       "  </tbody>\n",
       "</table>\n",
       "</div>"
      ],
      "text/plain": [
       "   accuracy                                   confusion_matrix  \\\n",
       "0  0.697628  [[9405   98    1]\\r\\r\\n [2943   60    1]\\r\\r\\n...   \n",
       "1  0.707793  [[9367  104   33]\\r\\r\\n [2853  109   42]\\r\\r\\n...   \n",
       "2  0.709708  [[9387   67   50]\\r\\r\\n [2855   91   58]\\r\\r\\n...   \n",
       "3  0.693503  [[9258  245    1]\\r\\r\\n [2855  149    0]\\r\\r\\n...   \n",
       "4  0.713465  [[9160  310   34]\\r\\r\\n [2567  379   58]\\r\\r\\n...   \n",
       "\n",
       "                                 feature_importances  log_loss model  \\\n",
       "0                                                NaN  0.723703   log   \n",
       "1              [ 0.07521602  0.14711349  0.77767049]  0.699523    rf   \n",
       "2              [ 0.11066017  0.21640541  0.67293441]  0.693431   xgb   \n",
       "3                                                NaN  0.709257   log   \n",
       "4  [ 0.37278375  0.10014773  0.02617405  0.189851...  0.653079    rf   \n",
       "\n",
       "                                          parameters  \\\n",
       "0  {'multi_class': 'multinomial', 'C': 1000, 'sol...   \n",
       "1  {'max_features': 'auto', 'n_estimators': 500, ...   \n",
       "2  {'n_estimators': 500, 'objective': 'multi:soft...   \n",
       "3  {'multi_class': 'multinomial', 'C': 1000, 'sol...   \n",
       "4  {'max_features': 'auto', 'n_estimators': 500, ...   \n",
       "\n",
       "                                          predictors        timestamp  \n",
       "0                 ['bathrooms', 'bedrooms', 'price']  3/16/2017 18:17  \n",
       "1                 ['bathrooms', 'bedrooms', 'price']  3/16/2017 18:30  \n",
       "2                 ['bathrooms', 'bedrooms', 'price']  3/16/2017 18:41  \n",
       "3  ['price', 'bedrooms', 'bathrooms', 'descriptio...  3/16/2017 18:59  \n",
       "4  ['price', 'bedrooms', 'bathrooms', 'descriptio...  3/16/2017 19:25  "
      ]
     },
     "execution_count": 6,
     "metadata": {},
     "output_type": "execute_result"
    }
   ],
   "source": [
    "df_chosen_model.head()"
   ]
  },
  {
   "cell_type": "markdown",
   "metadata": {},
   "source": [
    "# Performance of All CV Models"
   ]
  },
  {
   "cell_type": "code",
   "execution_count": 7,
   "metadata": {
    "collapsed": false
   },
   "outputs": [
    {
     "data": {
      "image/png": "[encoded data removed]",
      "text/plain": [
       "<matplotlib.figure.Figure at 0xb3ba2e8>"
      ]
     },
     "metadata": {},
     "output_type": "display_data"
    }
   ],
   "source": [
    "models_performance = df_model_performance[df_model_performance['model'] != 'base'].groupby('model')\n",
    "fig, ax = plt.subplots()\n",
    "ax.margins(0.05) # Optional, just adds 5% padding to the autoscaling\n",
    "for name, group in models_performance:\n",
    "    ax.plot(group.index, group.score, marker='o', linestyle='', ms=5, label=name)\n",
    "ax.legend(numpoints=1, bbox_to_anchor=(1.1, 0.5), loc = 'center')\n",
    "plt.xlabel('Index')\n",
    "plt.ylabel('Log Loss Score')\n",
    "plt.show()"
   ]
  },
  {
   "cell_type": "markdown",
   "metadata": {},
   "source": [
    "# Performance of Chosen Models"
   ]
  },
  {
   "cell_type": "code",
   "execution_count": 8,
   "metadata": {
    "collapsed": false
   },
   "outputs": [
    {
     "data": {
      "image/png": "[encoded data removed]",
      "text/plain": [
       "<matplotlib.figure.Figure at 0xb3ba160>"
      ]
     },
     "metadata": {},
     "output_type": "display_data"
    }
   ],
   "source": [
    "chosen_models = df_chosen_model[df_chosen_model['model'] != 'base'].groupby('model')\n",
    "fig, ax = plt.subplots()\n",
    "ax.margins(0.05) # Optional, just adds 5% padding to the autoscaling\n",
    "for name, group in chosen_models:\n",
    "    ax.plot(group.index, group.log_loss, marker='o', linestyle='', ms=5, label=name + ' log-loss')\n",
    "    ax.plot(group.index, group.accuracy, marker='^', linestyle='', ms=5, label=name + ' accuracy')\n",
    "ax.legend(numpoints=1, bbox_to_anchor=(1.2, 0.5), loc = 'center')\n",
    "plt.xlabel('Index')\n",
    "plt.ylabel('Scoring Metric Value')\n",
    "plt.show()"
   ]
  },
  {
   "cell_type": "markdown",
   "metadata": {},
   "source": [
    "# Individual Model Analysis"
   ]
  },
  {
   "cell_type": "markdown",
   "metadata": {},
   "source": [
    "### Model Results"
   ]
  },
  {
   "cell_type": "code",
   "execution_count": 12,
   "metadata": {
    "collapsed": false
   },
   "outputs": [
    {
     "name": "stdout",
     "output_type": "stream",
     "text": [
      "Log Loss: 0.5928\n",
      "Accuracy: 0.7378\n"
     ]
    },
    {
     "data": {
      "image/png": "[encoded data removed]",
      "text/plain": [
       "<matplotlib.figure.Figure at 0xc3f8048>"
      ]
     },
     "metadata": {},
     "output_type": "display_data"
    }
   ],
   "source": [
    "model_results(20, df_chosen_model)"
   ]
  },
  {
   "cell_type": "markdown",
   "metadata": {},
   "source": [
    "### Feature Importance"
   ]
  },
  {
   "cell_type": "code",
   "execution_count": 13,
   "metadata": {
    "collapsed": false
   },
   "outputs": [
    {
     "data": {
      "image/png": "[encoded data removed]",
      "text/plain": [
       "<matplotlib.figure.Figure at 0xbd01748>"
      ]
     },
     "metadata": {},
     "output_type": "display_data"
    }
   ],
   "source": [
    "get_feature_importance(20, df_chosen_model)"
   ]
  },
  {
   "cell_type": "code",
   "execution_count": 14,
   "metadata": {
    "collapsed": false
   },
   "outputs": [
    {
     "data": {
      "image/png": "[encoded data removed]",
      "text/plain": [
       "<matplotlib.figure.Figure at 0xc1c2208>"
      ]
     },
     "metadata": {},
     "output_type": "display_data"
    }
   ],
   "source": [
    "get_feature_importance(11, df_chosen_model)"
   ]
  }
 ],
 "metadata": {
  "anaconda-cloud": {},
  "kernelspec": {
   "display_name": "Python [Root]",
   "language": "python",
   "name": "Python [Root]"
  },
  "language_info": {
   "codemirror_mode": {
    "name": "ipython",
    "version": 2
   },
   "file_extension": ".py",
   "mimetype": "text/x-python",
   "name": "python",
   "nbconvert_exporter": "python",
   "pygments_lexer": "ipython2",
   "version": "2.7.13"
  }
 },
 "nbformat": 4,
 "nbformat_minor": 0
}
